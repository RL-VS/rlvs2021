{
 "cells": [
  {
   "cell_type": "code",
   "execution_count": 1,
   "metadata": {
    "id": "hsq4kNnSvZz9"
   },
   "outputs": [],
   "source": [
    "import numpy\n",
    "import random\n",
    "\n",
    "class Bandit:\n",
    "  DEFAULT_MEANS = numpy.array([0.3,0.6])\n",
    "  def __init__(self, means):\n",
    "    self.means = means\n",
    "    self.t = 0\n",
    "    self.T = numpy.zeros(self.arms())\n",
    "    self.S = numpy.zeros(self.arms())\n",
    "\n",
    "  def rounds(self):\n",
    "    return self.t\n",
    "\n",
    "  def arms(self):\n",
    "    return len(self.means)\n",
    "\n",
    "  def regret(self):\n",
    "    subopt = numpy.max(self.means) - self.means\n",
    "    return numpy.dot(subopt, self.T)\n",
    "\n",
    "  def play(self, a):\n",
    "    reward = numpy.random.binomial(1, self.means[a])\n",
    "    self.T[a]+=1\n",
    "    self.t+=1\n",
    "    self.S[a]+=reward\n",
    "    return reward\n",
    "\n",
    "  def summary(self):\n",
    "    print(\"------------------------------\")\n",
    "    print(\"number of arms: \" + str(self.arms()))\n",
    "    for a in range(self.arms()):\n",
    "      print(\"Arm \" + str(a) + \": Played \" + str(self.T[a]) + \" times with average reward \" + str(self.S[a] / self.T[a]))\n",
    "    print(\"------------------------------\")\n"
   ]
  },
  {
   "cell_type": "code",
   "execution_count": 2,
   "metadata": {
    "id": "aYra8dnbxCVf"
   },
   "outputs": [],
   "source": [
    "class TS():\n",
    "  def __init__(self, bandit):\n",
    "    self.bandit = bandit\n",
    "    self.sample = numpy.zeros(bandit.arms())\n",
    "\n",
    "  def act(self):\n",
    "    self.sample = numpy.zeros(self.bandit.arms())\n",
    "    for i in range(self.bandit.arms()):\n",
    "      a = self.bandit.S[i] + 1\n",
    "      b = self.bandit.T[i] - self.bandit.S[i] + 1\n",
    "      self.sample[i] = numpy.random.beta(a, b)\n",
    "    self.bandit.play(numpy.argmax(self.sample))"
   ]
  },
  {
   "cell_type": "code",
   "execution_count": 3,
   "metadata": {
    "id": "L9KspS4HxCc0"
   },
   "outputs": [],
   "source": [
    "class UCB():\n",
    "  def __init__(self, bandit):\n",
    "    self.bandit = bandit\n",
    "  \n",
    "  def idx(self):\n",
    "    return self.bandit.S / self.bandit.T + numpy.sqrt(0.5 / self.bandit.T * numpy.log(self.bandit.rounds() + 1.0))\n",
    "  \n",
    "  def act(self):\n",
    "    if self.bandit.rounds() < self.bandit.arms():\n",
    "      self.bandit.play(self.bandit.rounds())\n",
    "      return\n",
    "    ucb = self.idx()\n",
    "    self.bandit.play(numpy.argmax(ucb)) "
   ]
  },
  {
   "cell_type": "code",
   "execution_count": 4,
   "metadata": {
    "id": "SXJTD7jWx-h7"
   },
   "outputs": [],
   "source": [
    "import numpy as np\n",
    "from matplotlib import pyplot as plt\n",
    "from matplotlib.animation import FuncAnimation\n",
    "from matplotlib import rc"
   ]
  },
  {
   "cell_type": "markdown",
   "metadata": {
    "id": "qfcdtkWvxLsb"
   },
   "source": [
    "# Plot 1"
   ]
  },
  {
   "cell_type": "code",
   "execution_count": 5,
   "metadata": {
    "colab": {
     "base_uri": "https://localhost:8080/",
     "height": 265
    },
    "id": "fD7HaUcIvb2H",
    "outputId": "daaf1ffb-44ef-4432-e8b9-49397a58625e"
   },
   "outputs": [
    {
     "ename": "ValueError",
     "evalue": "The number of FixedLocator locations (5), usually from a call to set_ticks, does not match the number of ticklabels (3).",
     "output_type": "error",
     "traceback": [
      "\u001b[0;31m---------------------------------------------------------------------------\u001b[0m",
      "\u001b[0;31mValueError\u001b[0m                                Traceback (most recent call last)",
      "\u001b[0;32m<ipython-input-5-d21d4a5732ff>\u001b[0m in \u001b[0;36m<module>\u001b[0;34m\u001b[0m\n\u001b[1;32m     16\u001b[0m \u001b[0mx\u001b[0m \u001b[0;34m=\u001b[0m \u001b[0mnp\u001b[0m\u001b[0;34m.\u001b[0m\u001b[0marange\u001b[0m\u001b[0;34m(\u001b[0m\u001b[0;36m0\u001b[0m\u001b[0;34m,\u001b[0m \u001b[0mn\u001b[0m \u001b[0;34m*\u001b[0m \u001b[0mwidth\u001b[0m\u001b[0;34m,\u001b[0m \u001b[0mwidth\u001b[0m\u001b[0;34m)\u001b[0m\u001b[0;34m\u001b[0m\u001b[0;34m\u001b[0m\u001b[0m\n\u001b[1;32m     17\u001b[0m \u001b[0max\u001b[0m\u001b[0;34m.\u001b[0m\u001b[0mset_xticks\u001b[0m\u001b[0;34m(\u001b[0m\u001b[0mx\u001b[0m\u001b[0;34m)\u001b[0m\u001b[0;34m\u001b[0m\u001b[0;34m\u001b[0m\u001b[0m\n\u001b[0;32m---> 18\u001b[0;31m \u001b[0max\u001b[0m\u001b[0;34m.\u001b[0m\u001b[0mset_xticklabels\u001b[0m\u001b[0;34m(\u001b[0m\u001b[0mx_labels\u001b[0m\u001b[0;34m)\u001b[0m\u001b[0;34m\u001b[0m\u001b[0;34m\u001b[0m\u001b[0m\n\u001b[0m\u001b[1;32m     19\u001b[0m \u001b[0max\u001b[0m\u001b[0;34m.\u001b[0m\u001b[0mbar\u001b[0m\u001b[0;34m(\u001b[0m\u001b[0mx\u001b[0m\u001b[0;34m,\u001b[0m \u001b[0my\u001b[0m\u001b[0;34m,\u001b[0m \u001b[0mlabel\u001b[0m\u001b[0;34m=\u001b[0m\u001b[0;34m'UCB'\u001b[0m\u001b[0;34m,\u001b[0m \u001b[0mwidth\u001b[0m\u001b[0;34m=\u001b[0m\u001b[0;36m1\u001b[0m\u001b[0;34m)\u001b[0m\u001b[0;34m\u001b[0m\u001b[0;34m\u001b[0m\u001b[0m\n\u001b[1;32m     20\u001b[0m \u001b[0max\u001b[0m\u001b[0;34m.\u001b[0m\u001b[0mbar\u001b[0m\u001b[0;34m(\u001b[0m\u001b[0mx\u001b[0m \u001b[0;34m+\u001b[0m \u001b[0;36m0.5\u001b[0m\u001b[0;34m,\u001b[0m \u001b[0mban\u001b[0m\u001b[0;34m.\u001b[0m\u001b[0mmeans\u001b[0m\u001b[0;34m,\u001b[0m \u001b[0mcolor\u001b[0m\u001b[0;34m=\u001b[0m\u001b[0;34m'red'\u001b[0m\u001b[0;34m,\u001b[0m \u001b[0mlabel\u001b[0m\u001b[0;34m=\u001b[0m\u001b[0;34m'True mean'\u001b[0m\u001b[0;34m,\u001b[0m \u001b[0mwidth\u001b[0m\u001b[0;34m=\u001b[0m\u001b[0;36m0.5\u001b[0m\u001b[0;34m)\u001b[0m\u001b[0;34m\u001b[0m\u001b[0;34m\u001b[0m\u001b[0m\n",
      "\u001b[0;32m~/anaconda3/lib/python3.8/site-packages/matplotlib/axes/_base.py\u001b[0m in \u001b[0;36mwrapper\u001b[0;34m(self, *args, **kwargs)\u001b[0m\n\u001b[1;32m     61\u001b[0m \u001b[0;34m\u001b[0m\u001b[0m\n\u001b[1;32m     62\u001b[0m         \u001b[0;32mdef\u001b[0m \u001b[0mwrapper\u001b[0m\u001b[0;34m(\u001b[0m\u001b[0mself\u001b[0m\u001b[0;34m,\u001b[0m \u001b[0;34m*\u001b[0m\u001b[0margs\u001b[0m\u001b[0;34m,\u001b[0m \u001b[0;34m**\u001b[0m\u001b[0mkwargs\u001b[0m\u001b[0;34m)\u001b[0m\u001b[0;34m:\u001b[0m\u001b[0;34m\u001b[0m\u001b[0;34m\u001b[0m\u001b[0m\n\u001b[0;32m---> 63\u001b[0;31m             \u001b[0;32mreturn\u001b[0m \u001b[0mget_method\u001b[0m\u001b[0;34m(\u001b[0m\u001b[0mself\u001b[0m\u001b[0;34m)\u001b[0m\u001b[0;34m(\u001b[0m\u001b[0;34m*\u001b[0m\u001b[0margs\u001b[0m\u001b[0;34m,\u001b[0m \u001b[0;34m**\u001b[0m\u001b[0mkwargs\u001b[0m\u001b[0;34m)\u001b[0m\u001b[0;34m\u001b[0m\u001b[0;34m\u001b[0m\u001b[0m\n\u001b[0m\u001b[1;32m     64\u001b[0m \u001b[0;34m\u001b[0m\u001b[0m\n\u001b[1;32m     65\u001b[0m         \u001b[0mwrapper\u001b[0m\u001b[0;34m.\u001b[0m\u001b[0m__module__\u001b[0m \u001b[0;34m=\u001b[0m \u001b[0mowner\u001b[0m\u001b[0;34m.\u001b[0m\u001b[0m__module__\u001b[0m\u001b[0;34m\u001b[0m\u001b[0;34m\u001b[0m\u001b[0m\n",
      "\u001b[0;32m~/anaconda3/lib/python3.8/site-packages/matplotlib/cbook/deprecation.py\u001b[0m in \u001b[0;36mwrapper\u001b[0;34m(*args, **kwargs)\u001b[0m\n\u001b[1;32m    449\u001b[0m                 \u001b[0;34m\"parameter will become keyword-only %(removal)s.\"\u001b[0m\u001b[0;34m,\u001b[0m\u001b[0;34m\u001b[0m\u001b[0;34m\u001b[0m\u001b[0m\n\u001b[1;32m    450\u001b[0m                 name=name, obj_type=f\"parameter of {func.__name__}()\")\n\u001b[0;32m--> 451\u001b[0;31m         \u001b[0;32mreturn\u001b[0m \u001b[0mfunc\u001b[0m\u001b[0;34m(\u001b[0m\u001b[0;34m*\u001b[0m\u001b[0margs\u001b[0m\u001b[0;34m,\u001b[0m \u001b[0;34m**\u001b[0m\u001b[0mkwargs\u001b[0m\u001b[0;34m)\u001b[0m\u001b[0;34m\u001b[0m\u001b[0;34m\u001b[0m\u001b[0m\n\u001b[0m\u001b[1;32m    452\u001b[0m \u001b[0;34m\u001b[0m\u001b[0m\n\u001b[1;32m    453\u001b[0m     \u001b[0;32mreturn\u001b[0m \u001b[0mwrapper\u001b[0m\u001b[0;34m\u001b[0m\u001b[0;34m\u001b[0m\u001b[0m\n",
      "\u001b[0;32m~/anaconda3/lib/python3.8/site-packages/matplotlib/axis.py\u001b[0m in \u001b[0;36m_set_ticklabels\u001b[0;34m(self, labels, fontdict, minor, **kwargs)\u001b[0m\n\u001b[1;32m   1794\u001b[0m         \u001b[0;32mif\u001b[0m \u001b[0mfontdict\u001b[0m \u001b[0;32mis\u001b[0m \u001b[0;32mnot\u001b[0m \u001b[0;32mNone\u001b[0m\u001b[0;34m:\u001b[0m\u001b[0;34m\u001b[0m\u001b[0;34m\u001b[0m\u001b[0m\n\u001b[1;32m   1795\u001b[0m             \u001b[0mkwargs\u001b[0m\u001b[0;34m.\u001b[0m\u001b[0mupdate\u001b[0m\u001b[0;34m(\u001b[0m\u001b[0mfontdict\u001b[0m\u001b[0;34m)\u001b[0m\u001b[0;34m\u001b[0m\u001b[0;34m\u001b[0m\u001b[0m\n\u001b[0;32m-> 1796\u001b[0;31m         \u001b[0;32mreturn\u001b[0m \u001b[0mself\u001b[0m\u001b[0;34m.\u001b[0m\u001b[0mset_ticklabels\u001b[0m\u001b[0;34m(\u001b[0m\u001b[0mlabels\u001b[0m\u001b[0;34m,\u001b[0m \u001b[0mminor\u001b[0m\u001b[0;34m=\u001b[0m\u001b[0mminor\u001b[0m\u001b[0;34m,\u001b[0m \u001b[0;34m**\u001b[0m\u001b[0mkwargs\u001b[0m\u001b[0;34m)\u001b[0m\u001b[0;34m\u001b[0m\u001b[0;34m\u001b[0m\u001b[0m\n\u001b[0m\u001b[1;32m   1797\u001b[0m \u001b[0;34m\u001b[0m\u001b[0m\n\u001b[1;32m   1798\u001b[0m     \u001b[0;34m@\u001b[0m\u001b[0mcbook\u001b[0m\u001b[0;34m.\u001b[0m\u001b[0m_make_keyword_only\u001b[0m\u001b[0;34m(\u001b[0m\u001b[0;34m\"3.2\"\u001b[0m\u001b[0;34m,\u001b[0m \u001b[0;34m\"minor\"\u001b[0m\u001b[0;34m)\u001b[0m\u001b[0;34m\u001b[0m\u001b[0;34m\u001b[0m\u001b[0m\n",
      "\u001b[0;32m~/anaconda3/lib/python3.8/site-packages/matplotlib/axis.py\u001b[0m in \u001b[0;36mset_ticklabels\u001b[0;34m(self, ticklabels, minor, **kwargs)\u001b[0m\n\u001b[1;32m   1715\u001b[0m             \u001b[0;31m# remove all tick labels, so only error for > 0 ticklabels\u001b[0m\u001b[0;34m\u001b[0m\u001b[0;34m\u001b[0m\u001b[0;34m\u001b[0m\u001b[0m\n\u001b[1;32m   1716\u001b[0m             \u001b[0;32mif\u001b[0m \u001b[0mlen\u001b[0m\u001b[0;34m(\u001b[0m\u001b[0mlocator\u001b[0m\u001b[0;34m.\u001b[0m\u001b[0mlocs\u001b[0m\u001b[0;34m)\u001b[0m \u001b[0;34m!=\u001b[0m \u001b[0mlen\u001b[0m\u001b[0;34m(\u001b[0m\u001b[0mticklabels\u001b[0m\u001b[0;34m)\u001b[0m \u001b[0;32mand\u001b[0m \u001b[0mlen\u001b[0m\u001b[0;34m(\u001b[0m\u001b[0mticklabels\u001b[0m\u001b[0;34m)\u001b[0m \u001b[0;34m!=\u001b[0m \u001b[0;36m0\u001b[0m\u001b[0;34m:\u001b[0m\u001b[0;34m\u001b[0m\u001b[0;34m\u001b[0m\u001b[0m\n\u001b[0;32m-> 1717\u001b[0;31m                 raise ValueError(\n\u001b[0m\u001b[1;32m   1718\u001b[0m                     \u001b[0;34m\"The number of FixedLocator locations\"\u001b[0m\u001b[0;34m\u001b[0m\u001b[0;34m\u001b[0m\u001b[0m\n\u001b[1;32m   1719\u001b[0m                     \u001b[0;34mf\" ({len(locator.locs)}), usually from a call to\"\u001b[0m\u001b[0;34m\u001b[0m\u001b[0;34m\u001b[0m\u001b[0m\n",
      "\u001b[0;31mValueError\u001b[0m: The number of FixedLocator locations (5), usually from a call to set_ticks, does not match the number of ticklabels (3)."
     ]
    },
    {
     "data": {
      "image/png": "[encoded data removed]",
      "text/plain": [
       "<Figure size 432x288 with 1 Axes>"
      ]
     },
     "metadata": {
      "needs_background": "light"
     },
     "output_type": "display_data"
    }
   ],
   "source": [
    "ban = Bandit([0.7, 0.6, 0.5, 0.4, 0.3])\n",
    "ucb = UCB(ban)\n",
    "\n",
    "k = ban.arms()\n",
    "for i in range(k):\n",
    "  ucb.act()\n",
    "\n",
    "fig = plt.figure()\n",
    "ax = plt.axes(xlim=(-2, 15), ylim=(0, 1.5))\n",
    "x_labels = ['Arm 1', 'Arm 2', 'Arm 3']\n",
    "\n",
    "y = ucb.idx()\n",
    "\n",
    "n = len(y)\n",
    "width = 3\n",
    "x = np.arange(0, n * width, width)\n",
    "ax.set_xticks(x)\n",
    "ax.set_xticklabels(x_labels)\n",
    "ax.bar(x, y, label='UCB', width=1)\n",
    "ax.bar(x + 0.5, ban.means, color='red', label='True mean', width=0.5)\n",
    "ax.bar(x, ban.S / ban.T, color='green', label='Empirical mean', width=0.5)\n",
    "\n",
    "\n",
    "ax.legend()\n",
    "\n",
    "def init():\n",
    "  pass\n",
    "\n",
    "def animate(i):\n",
    "  for b in ax.containers:\n",
    "    b.remove()\n",
    "  ucb.act()\n",
    "  y = ucb.idx()\n",
    "  ax.bar(x, y, label='UCB', color='blue', width=1)\n",
    "  ax.bar(x + 0.5, ban.means, color='red', label='True mean', width=0.5)\n",
    "  ax.bar(x, ban.S / ban.T, color='green', label='Empirical mean', width=0.5)\n",
    "  ax.set_xticklabels(ban.T)\n",
    "  plt.title(\"Rounds: \" + str(ban.rounds()) + \"        Regret: \" + str(ban.regret()))\n",
    "\n",
    "anim = FuncAnimation(fig, animate, init_func=init,frames=200,interval=20,blit=False)"
   ]
  },
  {
   "cell_type": "code",
   "execution_count": null,
   "metadata": {
    "colab": {
     "base_uri": "https://localhost:8080/",
     "height": 659
    },
    "id": "Vm_WqZuryTmh",
    "outputId": "e91675d8-70dc-458e-e73b-ad1531711c88"
   },
   "outputs": [],
   "source": [
    "rc('animation', html='jshtml')\n",
    "anim"
   ]
  },
  {
   "cell_type": "markdown",
   "metadata": {
    "id": "OZH5YWq9xdlj"
   },
   "source": [
    "# Plot 2"
   ]
  },
  {
   "cell_type": "code",
   "execution_count": null,
   "metadata": {
    "colab": {
     "base_uri": "https://localhost:8080/",
     "height": 269
    },
    "id": "P-glatl7vsn1",
    "outputId": "c14084f2-6308-46ae-aaec-17c70e814026"
   },
   "outputs": [],
   "source": [
    "ban = Bandit([0.7, 0.6, 0.5, 0.4, 0.3])\n",
    "ucb = UCB(ban)\n",
    "\n",
    "k = ban.arms()\n",
    "for i in range(k):\n",
    "  ucb.act()\n",
    "\n",
    "fig = plt.figure()\n",
    "ax = plt.axes(xlim=(0, 0.48), ylim=(0, 20))\n",
    "\n",
    "\n",
    "n = 250\n",
    "\n",
    "Deltas = np.arange(0.0, 0.48, 0.02)\n",
    "regrets = np.zeros(len(Deltas))\n",
    "\n",
    "\n",
    "def init():\n",
    "  pass\n",
    "\n",
    "def animate(i):\n",
    "  ax.clear()\n",
    "\n",
    "  for j in range(len(Deltas)):\n",
    "    ban = Bandit([0.5, 0.5-Deltas[j]])\n",
    "    ucb = UCB(ban)\n",
    "    for t in range(n):\n",
    "      ucb.act()\n",
    "    regrets[j]+=ban.regret()\n",
    "  ax.plot(Deltas, regrets / (i+1.0))\n",
    "  plt.title(\"Average regret after \" + str(i) + \" iterations\")\n",
    "  plt.xlabel(\"Delta\")\n",
    "  plt.ylabel(\"Regret\")\n",
    "\n",
    "\n",
    "anim = FuncAnimation(fig, animate, init_func=init,frames=200,interval=1,blit=False)"
   ]
  },
  {
   "cell_type": "code",
   "execution_count": null,
   "metadata": {
    "colab": {
     "base_uri": "https://localhost:8080/",
     "height": 673
    },
    "id": "pheNI11XyvsQ",
    "outputId": "d602aa7c-e0e6-416b-f866-820fc6209513"
   },
   "outputs": [],
   "source": [
    "rc('animation', html='jshtml')\n",
    "anim"
   ]
  },
  {
   "cell_type": "markdown",
   "metadata": {
    "id": "uEdjYsUgxqpx"
   },
   "source": [
    "# Plot 3"
   ]
  },
  {
   "cell_type": "code",
   "execution_count": null,
   "metadata": {
    "colab": {
     "base_uri": "https://localhost:8080/",
     "height": 282
    },
    "id": "IQ_CE3DCxr6p",
    "outputId": "c8fefcc5-e11b-46f9-d549-d81b2947bc59"
   },
   "outputs": [],
   "source": [
    "ban = Bandit([0.7, 0.6, 0.5, 0.4, 0.3])\n",
    "ts = TS(ban)\n",
    "\n",
    "k = ban.arms()\n",
    "\n",
    "fig = plt.figure()\n",
    "ax = plt.axes(xlim=(-2, 15), ylim=(0, 1.5))\n",
    "x_labels = ['Arm 1', 'Arm 2', 'Arm 3']\n",
    "\n",
    "y = ts.sample\n",
    "\n",
    "n = len(y)\n",
    "width = 3\n",
    "x = np.arange(0, n * width, width)\n",
    "ax.set_xticks(x)\n",
    "ax.set_xticklabels(x_labels)\n",
    "ax.bar(x, y, color='blue', label='Sampled mean', width=0.33)\n",
    "ax.bar(x + 0.33, ban.means, color='red', label='True mean', width=0.33)\n",
    "ax.bar(x + 0.66, ban.S / ban.T, color='green', label='Empirical mean', width=0.33)\n",
    "\n",
    "\n",
    "ax.legend()\n",
    "\n",
    "def init():\n",
    "  pass\n",
    "\n",
    "def animate(i):\n",
    "  for b in ax.containers:\n",
    "    b.remove()\n",
    "  ts.act()\n",
    "  y = ts.sample\n",
    "  #ax.bar(x, y, label='Sampled mean', width=1)\n",
    "  #ax.bar(x + 0.5, ban.means, color='red', label='True mean', width=0.5)\n",
    "  #ax.bar(x, ban.S / ban.T, color='green', label='Empirical mean', width=0.5)\n",
    "  ax.bar(x, y, label='Sampled mean', width=0.33)\n",
    "  ax.bar(x + 0.33, ban.means, color='red', label='True mean', width=0.33)\n",
    "  ax.bar(x + 0.66, ban.S / ban.T, color='green', label='Empirical mean', width=0.33)\n",
    "\n",
    "  ax.set_xticklabels(ban.T)\n",
    "  plt.title(\"Rounds: \" + str(ban.rounds()) + \"        Regret: \" + str(ban.regret()))\n",
    "\n",
    "anim = FuncAnimation(fig, animate, init_func=init,frames=200,interval=20,blit=False)"
   ]
  },
  {
   "cell_type": "code",
   "execution_count": null,
   "metadata": {
    "colab": {
     "base_uri": "https://localhost:8080/",
     "height": 676
    },
    "id": "IQiGkNRxyyYZ",
    "outputId": "7a43d6e4-e54f-4d11-ecb9-9b0e408a8e6f"
   },
   "outputs": [],
   "source": [
    "rc('animation', html='jshtml')\n",
    "anim"
   ]
  },
  {
   "cell_type": "markdown",
   "metadata": {
    "id": "RYgeSaaHx0Jb"
   },
   "source": [
    "# Plot 4"
   ]
  },
  {
   "cell_type": "code",
   "execution_count": null,
   "metadata": {
    "id": "1oIGzr9Hx1O1"
   },
   "outputs": [],
   "source": [
    "ban = Bandit([0.7, 0.6, 0.5, 0.4, 0.3])\n",
    "ucb = UCB(ban)\n",
    "\n",
    "k = ban.arms()\n",
    "for i in range(k):\n",
    "  ucb.act()\n",
    "\n",
    "fig = plt.figure()\n",
    "ax = plt.axes(xlim=(0, 0.48), ylim=(0, 20))\n",
    "\n",
    "\n",
    "n = 1000\n",
    "\n",
    "regrets = []\n",
    "regrets_ts = []\n",
    "\n",
    "def init():\n",
    "  pass\n",
    "\n",
    "def animate(i):\n",
    "  ax.clear()\n",
    "\n",
    "  ban = Bandit([0.5, 0.4])\n",
    "  ucb = UCB(ban)\n",
    "  for t in range(n):\n",
    "    ucb.act()\n",
    "  regrets.append(ban.regret())\n",
    "\n",
    "  ban = Bandit([0.5, 0.4])\n",
    "  ts = TS(ban)\n",
    "  for t in range(n):\n",
    "    ts.act()\n",
    "  regrets_ts.append(ban.regret())\n",
    "  ax.hist(regrets, bins=np.arange(0, 100, 2), weights=np.ones(len(regrets)) / len(regrets), alpha = 0.3, label='UCB')\n",
    "  ax.hist(regrets_ts, bins=np.arange(0, 100, 2), weights=np.ones(len(regrets)) / len(regrets), color='black', alpha = 0.3, label = 'TS')\n",
    "  plt.xlim([0,100])\n",
    "  plt.title(\"Histogram of regret from \" + str(i) + \" iterations\")\n",
    "  plt.xlabel(\"Regret\")\n",
    "  plt.ylabel(\"Frequency\")\n",
    "  ax.legend()\n",
    "\n",
    "\n",
    "anim = FuncAnimation(fig, animate, init_func=init,frames=200,interval=1,blit=False)"
   ]
  },
  {
   "cell_type": "code",
   "execution_count": null,
   "metadata": {
    "id": "_wvESSmzy5v7"
   },
   "outputs": [],
   "source": [
    "rc('animation', html='jshtml')\n",
    "anim"
   ]
  },
  {
   "cell_type": "code",
   "execution_count": null,
   "metadata": {},
   "outputs": [],
   "source": []
  }
 ],
 "metadata": {
  "colab": {
   "collapsed_sections": [],
   "name": "bandits_lattimore.ipynb",
   "provenance": []
  },
  "kernelspec": {
   "display_name": "Python 3",
   "language": "python",
   "name": "python3"
  },
  "language_info": {
   "codemirror_mode": {
    "name": "ipython",
    "version": 3
   },
   "file_extension": ".py",
   "mimetype": "text/x-python",
   "name": "python",
   "nbconvert_exporter": "python",
   "pygments_lexer": "ipython3",
   "version": "3.8.8"
  },
  "latex_envs": {
   "LaTeX_envs_menu_present": true,
   "autoclose": false,
   "autocomplete": true,
   "bibliofile": "biblio.bib",
   "cite_by": "apalike",
   "current_citInitial": 1,
   "eqLabelWithNumbers": true,
   "eqNumInitial": 1,
   "hotkeys": {
    "equation": "Ctrl-E",
    "itemize": "Ctrl-I"
   },
   "labels_anchors": false,
   "latex_user_defs": false,
   "report_style_numbering": false,
   "user_envs_cfg": false
  },
  "toc": {
   "base_numbering": 1,
   "nav_menu": {},
   "number_sections": true,
   "sideBar": true,
   "skip_h1_title": false,
   "title_cell": "Table of Contents",
   "title_sidebar": "Contents",
   "toc_cell": false,
   "toc_position": {},
   "toc_section_display": true,
   "toc_window_display": false
  }
 },
 "nbformat": 4,
 "nbformat_minor": 1
}
